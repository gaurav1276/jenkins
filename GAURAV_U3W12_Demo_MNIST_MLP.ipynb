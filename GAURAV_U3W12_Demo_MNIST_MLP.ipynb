{
  "nbformat": 4,
  "nbformat_minor": 0,
  "metadata": {
    "colab": {
      "provenance": [],
      "include_colab_link": true
    },
    "kernelspec": {
      "display_name": "Python 3",
      "language": "python",
      "name": "python3"
    },
    "language_info": {
      "codemirror_mode": {
        "name": "ipython",
        "version": 3
      },
      "file_extension": ".py",
      "mimetype": "text/x-python",
      "name": "python",
      "nbconvert_exporter": "python",
      "pygments_lexer": "ipython3",
      "version": "3.6.10"
    },
    "accelerator": "GPU"
  },
  "cells": [
    {
      "cell_type": "markdown",
      "metadata": {
        "id": "view-in-github",
        "colab_type": "text"
      },
      "source": [
        "<a href=\"https://colab.research.google.com/github/gaurav1276/jenkins/blob/master/GAURAV_U3W12_Demo_MNIST_MLP.ipynb\" target=\"_parent\"><img src=\"https://colab.research.google.com/assets/colab-badge.svg\" alt=\"Open In Colab\"/></a>"
      ]
    },
    {
      "cell_type": "markdown",
      "metadata": {
        "id": "-zSWyuZTlYS1"
      },
      "source": [
        "\n",
        "# Advanced Certification in AIML\n",
        "## A Program by IIIT-H and TalentSprint"
      ]
    },
    {
      "cell_type": "markdown",
      "metadata": {
        "id": "kRUhG-LzJux_"
      },
      "source": [
        "### Not for Grading"
      ]
    },
    {
      "cell_type": "markdown",
      "metadata": {
        "id": "eZPUeeN66kTn"
      },
      "source": [
        "<h2><b>Handwritten Digit Recognition</b></h2>\n",
        "<b> Problem Statement: </b> <br>\n",
        "The goal of this project is to create a model that will be able to recognize and determine the handwritten digits from its image by using ML/DL techniques and observe the performance difference between various techniques. <br>\n",
        "We use MNIST dataset for this task."
      ]
    },
    {
      "cell_type": "markdown",
      "metadata": {
        "id": "jKrpZC3S6kTy"
      },
      "source": [
        "<b>MNIST Dataset : </b> <br>\n",
        "The MNIST dataset developed by Yann LeCun, Corinna Cortes and Christopher Burges for evaluating machine learning models on the handwritten digit classification problem.\n",
        "<br>\n",
        "\n",
        "The dataset was constructed from a number of scanned document dataset available from the National Institute of Standards and Technology (NIST). This is where the name for the dataset comes from, as the Modified NIST or MNIST dataset.\n",
        "Images of digits were taken from a variety of scanned documents, normalized in size and centered. This makes it an excellent dataset for evaluating models, allowing the developer to focus on the machine learning with very little data cleaning or preparation required.\n",
        "\n",
        "\n",
        "Each image is a 28 by 28 pixel square (784 pixels total). A standard split of the dataset is used to evaluate and compare models, where 60,000 images are used to train a model and a separate set of 10,000 images are used to test it.\n",
        "\n",
        "![altxt](https://i.pinimg.com/originals/f2/7a/ac/f27aac4542c0090872110836d65f4c99.jpg)"
      ]
    },
    {
      "cell_type": "markdown",
      "metadata": {
        "id": "IRI3O4ZwXEaF"
      },
      "source": [
        "## Setup Steps"
      ]
    },
    {
      "cell_type": "code",
      "metadata": {
        "id": "RJNz2sDLoZ47"
      },
      "source": [
        "#@title Please enter your registration id to start: { run: \"auto\", display-mode: \"form\" }\n",
        "Id = \"2400167\" #@param {type:\"string\"}"
      ],
      "execution_count": 1,
      "outputs": []
    },
    {
      "cell_type": "code",
      "metadata": {
        "id": "maYkps60oZ48"
      },
      "source": [
        "#@title Please enter your password (normally your phone number) to continue: { run: \"auto\", display-mode: \"form\" }\n",
        "password = \"9650013713\" #@param {type:\"string\"}"
      ],
      "execution_count": 2,
      "outputs": []
    },
    {
      "cell_type": "code",
      "metadata": {
        "cellView": "form",
        "id": "9wKhlWDsoZ48",
        "colab": {
          "base_uri": "https://localhost:8080/",
          "height": 34
        },
        "outputId": "bc5ac9f0-ff2c-4a20-d8ee-d82829b631e0"
      },
      "source": [
        "#@title Run this cell to complete the setup for this Notebook\n",
        "from IPython import get_ipython\n",
        "import re\n",
        "ipython = get_ipython()\n",
        "\n",
        "notebook= \"U3W12_Demo_MNIST_MLP\" #name of the notebook\n",
        "\n",
        "def setup():\n",
        "#  ipython.magic(\"sx pip3 install torch\")\n",
        "    from IPython.display import HTML, display\n",
        "    ipython.magic(\"sx pip install torch\")\n",
        "    ipython.magic(\"sx pip install torchvision\")\n",
        "    ipython.magic(\"sx pip3 install torchviz\")\n",
        "    ipython.magic(\"sx wget -qq www.di.ens.fr/~lelarge/MNIST.tar.gz\")\n",
        "    ipython.magic(\"sx tar -zxvf MNIST.tar.gz\")\n",
        "    display(HTML('<script src=\"https://dashboard.talentsprint.com/aiml/record_ip.html?traineeId={0}&recordId={1}\"></script>'.format(getId(),submission_id)))\n",
        "    print(\"Setup completed successfully\")\n",
        "    return\n",
        "\n",
        "def submit_notebook():\n",
        "    ipython.magic(\"notebook -e \"+ notebook + \".ipynb\")\n",
        "\n",
        "    import requests, json, base64, datetime\n",
        "\n",
        "    url = \"https://dashboard.talentsprint.com/xp/app/save_notebook_attempts\"\n",
        "    if not submission_id:\n",
        "      data = {\"id\" : getId(), \"notebook\" : notebook, \"mobile\" : getPassword()}\n",
        "      r = requests.post(url, data = data)\n",
        "      r = json.loads(r.text)\n",
        "\n",
        "      if r[\"status\"] == \"Success\":\n",
        "          return r[\"record_id\"]\n",
        "      elif \"err\" in r:\n",
        "        print(r[\"err\"])\n",
        "        return None\n",
        "      else:\n",
        "        print (\"Something is wrong, the notebook will not be submitted for grading\")\n",
        "        return None\n",
        "\n",
        "    elif getComplexity() and getAdditional() and getConcepts() and getWalkthrough() and getComments() and getMentorSupport():\n",
        "      f = open(notebook + \".ipynb\", \"rb\")\n",
        "      file_hash = base64.b64encode(f.read())\n",
        "\n",
        "      data = {\"complexity\" : Complexity, \"additional\" :Additional,\n",
        "              \"concepts\" : Concepts, \"record_id\" : submission_id,\n",
        "               \"id\" : Id, \"file_hash\" : file_hash,\n",
        "              \"notebook\" : notebook, \"feedback_walkthrough\":Walkthrough ,\n",
        "              \"feedback_experiments_input\" : Comments,\n",
        "              \"feedback_inclass_mentor\": Mentor_support}\n",
        "\n",
        "      r = requests.post(url, data = data)\n",
        "      r = json.loads(r.text)\n",
        "      if \"err\" in r:\n",
        "        print(r[\"err\"])\n",
        "        return None\n",
        "      else:\n",
        "        print(\"Your submission is successful.\")\n",
        "        print(\"Ref Id:\", submission_id)\n",
        "        print(\"Date of submission: \", r[\"date\"])\n",
        "        print(\"Time of submission: \", r[\"time\"])\n",
        "        print(\"View your submissions: https://aiml-iiith.talentsprint.com/notebook_submissions\")\n",
        "        #print(\"For any queries/discrepancies, please connect with mentors through the chat icon in LMS dashboard.\")\n",
        "        return submission_id\n",
        "    else: submission_id\n",
        "\n",
        "\n",
        "def getAdditional():\n",
        "  try:\n",
        "    if not Additional:\n",
        "      raise NameError\n",
        "    else:\n",
        "      return Additional\n",
        "  except NameError:\n",
        "    print (\"Please answer Additional Question\")\n",
        "    return None\n",
        "\n",
        "def getComplexity():\n",
        "  try:\n",
        "    if not Complexity:\n",
        "      raise NameError\n",
        "    else:\n",
        "      return Complexity\n",
        "  except NameError:\n",
        "    print (\"Please answer Complexity Question\")\n",
        "    return None\n",
        "\n",
        "def getConcepts():\n",
        "  try:\n",
        "    if not Concepts:\n",
        "      raise NameError\n",
        "    else:\n",
        "      return Concepts\n",
        "  except NameError:\n",
        "    print (\"Please answer Concepts Question\")\n",
        "    return None\n",
        "\n",
        "\n",
        "def getWalkthrough():\n",
        "  try:\n",
        "    if not Walkthrough:\n",
        "      raise NameError\n",
        "    else:\n",
        "      return Walkthrough\n",
        "  except NameError:\n",
        "    print (\"Please answer Walkthrough Question\")\n",
        "    return None\n",
        "\n",
        "def getComments():\n",
        "  try:\n",
        "    if not Comments:\n",
        "      raise NameError\n",
        "    else:\n",
        "      return Comments\n",
        "  except NameError:\n",
        "    print (\"Please answer Comments Question\")\n",
        "    return None\n",
        "\n",
        "\n",
        "def getMentorSupport():\n",
        "  try:\n",
        "    if not Mentor_support:\n",
        "      raise NameError\n",
        "    else:\n",
        "      return Mentor_support\n",
        "  except NameError:\n",
        "    print (\"Please answer Mentor support Question\")\n",
        "    return None\n",
        "\n",
        "\n",
        "def getId():\n",
        "  try:\n",
        "    return Id if Id else None\n",
        "  except NameError:\n",
        "    return None\n",
        "\n",
        "def getPassword():\n",
        "  try:\n",
        "    return password if password else None\n",
        "  except NameError:\n",
        "    return None\n",
        "\n",
        "submission_id = None\n",
        "### Setup\n",
        "if getPassword() and getId():\n",
        "  submission_id = submit_notebook()\n",
        "  if submission_id:\n",
        "    setup()\n",
        "else:\n",
        "  print (\"Please complete Id and Password cells before running setup\")\n",
        "\n"
      ],
      "execution_count": 3,
      "outputs": [
        {
          "output_type": "display_data",
          "data": {
            "text/plain": [
              "<IPython.core.display.HTML object>"
            ],
            "text/html": [
              "<script src=\"https://dashboard.talentsprint.com/aiml/record_ip.html?traineeId=2400167&recordId=8878\"></script>"
            ]
          },
          "metadata": {}
        },
        {
          "output_type": "stream",
          "name": "stdout",
          "text": [
            "Setup completed successfully\n"
          ]
        }
      ]
    },
    {
      "cell_type": "markdown",
      "source": [
        "## Importing required library"
      ],
      "metadata": {
        "id": "ryf_XFGswfWW"
      }
    },
    {
      "cell_type": "markdown",
      "source": [
        "**1. PyTorch Core (torch)**\n",
        "python\n",
        "Copy code\n",
        "\n",
        "**import torch**\n",
        "\n",
        "Torch is the core library in PyTorch, widely used for deep learning. It provides functionality for tensor operations, GPU acceleration, and support for neural networks. Most operations with deep learning in PyTorch will revolve around torch tensors, which are similar to NumPy arrays but optimized for GPU acceleration.\n",
        "\n",
        "**2. NumPy (np)**\n",
        "\n",
        "\n",
        "**import numpy as np**\n",
        "NumPy is a fundamental package for numerical computation in Python. It is often used alongside PyTorch to perform data manipulation, transformations, and array-based operations, especially when loading or preprocessing data.\n",
        "\n",
        "**3. Matplotlib for Plotting (pyplot)**\n",
        "\n",
        "**from matplotlib import pyplot as plt**\n",
        "\n",
        "Matplotlib is a popular library for data visualization in Python. pyplot is its module that allows you to create plots, graphs, and images. It’s often used in deep learning workflows to visualize loss, accuracy trends, and sample images from datasets, which can be useful for model interpretation.\n",
        "\n",
        "**4. Torchvision for Image Datasets and Utilities (torchvision)**\n",
        "\n",
        "**import torchvision**\n",
        "\n",
        "Torchvision is a PyTorch package specifically designed for handling image-based deep learning tasks. It includes datasets, model architectures, and tools for data augmentation and preprocessing.\n",
        "\n",
        "**5. Image Transformations (transforms)**\n",
        "\n",
        "\n",
        "**from torchvision import transforms**\n",
        "\n",
        "transforms in torchvision is a set of utilities to perform various preprocessing steps on image data (like resizing, normalizing, converting to tensors, etc.). These transformations are essential for preparing images for model input.\n",
        "\n",
        "**6. MNIST Dataset (MNIST)**\n",
        "\n",
        "\n",
        "from torchvision.datasets import MNIST\n",
        "\n",
        "MNIST is a well-known handwritten digit dataset that’s often used for introductory deep learning tasks. It contains 28x28 grayscale images of digits (0-9). Loading it through torchvision.datasets provides a standardized way to access and preprocess this dataset with PyTorch.\n",
        "\n",
        "**7. Neural Network Layers (nn)**\n",
        "\n",
        "\n",
        "**import torch.nn as nn**\n",
        "\n",
        "The torch.nn module in PyTorch provides neural network building blocks like fully connected layers, convolutional layers, recurrent layers, and so on. It's foundational for building custom neural network architectures.\n",
        "\n",
        "**8. Functional Layer Operations (F)**\n",
        "\n",
        "\n",
        "**import torch.nn.functional as F**\n",
        "\n",
        "torch.nn.functional (often imported as F) contains functions that can apply non-linearities (like ReLU), pooling operations, and other layer functionalities directly. These functions are often used in models that require flexibility, like custom activation functions or parameter-less layers (e.g., F.relu()).\n",
        "Example Use-Case of These Libraries Together\n",
        "Using these imports, a typical workflow might look like this:\n",
        "\n",
        "Load and preprocess the MNIST dataset.\n",
        "Define a neural network using torch.nn components.\n",
        "Transform images using transforms to make them compatible with the model.\n",
        "Train the model by computing losses and updating weights, utilizing torch for operations and tensor manipulations.\n",
        "Visualize results (e.g., using pyplot) to interpret training progress or model outputs."
      ],
      "metadata": {
        "id": "U1NkMHi0_asq"
      }
    },
    {
      "cell_type": "code",
      "metadata": {
        "id": "BrxeHNNu6kT2",
        "colab": {
          "base_uri": "https://localhost:8080/"
        },
        "outputId": "b37a6772-d22f-4de0-db7f-af5dd0e13449"
      },
      "source": [
        "# Import libraries\n",
        "import torch\n",
        "import numpy as np\n",
        "from matplotlib import pyplot as plt\n",
        "import torchvision\n",
        "from torchvision import transforms\n",
        "from torchvision.datasets import MNIST\n",
        "import torch.nn as nn\n",
        "import torch.nn.functional as F\n",
        "\n",
        "print(\"All libraries are loaded\")"
      ],
      "execution_count": 4,
      "outputs": [
        {
          "output_type": "stream",
          "name": "stdout",
          "text": [
            "All libraries are loaded\n"
          ]
        }
      ]
    },
    {
      "cell_type": "markdown",
      "source": [],
      "metadata": {
        "id": "sH2LLICYApmz"
      }
    },
    {
      "cell_type": "markdown",
      "source": [
        "**1. Batch Size Definition**\n",
        "\n",
        "\n",
        "**batch_size = 20**\n",
        "\n",
        "This line specifies the batch_size, which is the number of samples processed before updating the model's parameters during training.\n",
        "Setting batch_size = 20 means that the model will process 20 images at once before calculating the gradients and updating the weights. Batching speeds up training and reduces memory requirements compared to processing the whole dataset at once.\n",
        "\n",
        "**2. Data Transformation**\n",
        "\n",
        "transform = transforms.ToTensor()\n",
        "transform = transforms.ToTensor() applies a transformation to the MNIST images.\n",
        "transforms.ToTensor() specifically converts a PIL image or NumPy array into a PyTorch tensor and normalizes the pixel values to a range of [0, 1].\n",
        "This transformation is important because neural networks operate more effectively with normalized inputs, and tensors are the data format PyTorch uses for computations.\n",
        "\n",
        "**3. Loading the MNIST Dataset**\n",
        "\n",
        "train_data = MNIST(root='./', train=True, download=True, transform=transform)\n",
        "train_data is created by loading the MNIST dataset with the following parameters:\n",
        "root='./': Specifies the directory where the dataset will be stored. Here, it will save the MNIST data to the current directory.\n",
        "train=True: Tells PyTorch to load the training portion of the dataset. Setting train=False would load the test dataset.\n",
        "download=True: Downloads the dataset if it isn’t already present in the specified root directory.\n",
        "transform=transform: Applies the transformation defined earlier (transforms.ToTensor()) to each image as it is loaded."
      ],
      "metadata": {
        "id": "oxZ3FcoqAzwb"
      }
    },
    {
      "cell_type": "code",
      "metadata": {
        "id": "-Fz0PNXCwhWg"
      },
      "source": [
        "# how many samples per batch to load\n",
        "batch_size = 20\n",
        "\n",
        "# when we load this it load as numpy so preprocessing to convert data to torch.FloatTensor\n",
        "transform = transforms.ToTensor()\n",
        "\n",
        "# choose the training and test datasets\n",
        "train_data = MNIST(root = './', train=True, download=True, transform=transform)"
      ],
      "execution_count": 5,
      "outputs": []
    },
    {
      "cell_type": "code",
      "source": [],
      "metadata": {
        "id": "GPCLxyFxCWd3"
      },
      "execution_count": null,
      "outputs": []
    },
    {
      "cell_type": "code",
      "metadata": {
        "id": "yT63EXNUzSXK",
        "colab": {
          "base_uri": "https://localhost:8080/"
        },
        "outputId": "b5c737e0-8c42-4438-a305-16dad0a79752"
      },
      "source": [
        "print(len(train_data))"
      ],
      "execution_count": 6,
      "outputs": [
        {
          "output_type": "stream",
          "name": "stdout",
          "text": [
            "60000\n"
          ]
        }
      ]
    },
    {
      "cell_type": "code",
      "source": [],
      "metadata": {
        "id": "vC_iGJOACXND"
      },
      "execution_count": 11,
      "outputs": []
    },
    {
      "cell_type": "code",
      "metadata": {
        "id": "aLJBORVm6kUM",
        "colab": {
          "base_uri": "https://localhost:8080/"
        },
        "outputId": "d054e548-8bcc-47f4-e7fa-84d476392a05"
      },
      "source": [
        "# we split data 50000 for training and 10000 for validation part\n",
        "train_data, val_data = torch.utils.data.random_split(train_data, [50000, 10000])\n",
        "\n",
        "# we load test data by making train = False as we have seperate test data t10kimages-idx-ubyte\n",
        "test_data = MNIST(root = './', train=False, download=True, transform=transform)\n",
        "\n",
        "# prepare data loaders\n",
        "train_loader = torch.utils.data.DataLoader(train_data, batch_size=batch_size)\n",
        "print(\"Training data created\")\n",
        "print(\"Train-Data length : \", len(train_data))\n",
        "\n",
        "val_loader = torch.utils.data.DataLoader(val_data, batch_size=batch_size)\n",
        "print(\"Validation data created\")\n",
        "print(\"Validation-Data length : \", len(val_data))\n",
        "\n",
        "test_loader = torch.utils.data.DataLoader(test_data, batch_size=batch_size)\n",
        "print(\"Test data created\")\n",
        "print(\"Test-Data length : \", len(test_data))"
      ],
      "execution_count": 7,
      "outputs": [
        {
          "output_type": "stream",
          "name": "stdout",
          "text": [
            "Training data created\n",
            "Train-Data length :  50000\n",
            "Validation data created\n",
            "Validation-Data length :  10000\n",
            "Test data created\n",
            "Test-Data length :  10000\n"
          ]
        }
      ]
    },
    {
      "cell_type": "markdown",
      "source": [
        "**Retrieve a Batch of Training Images**\n",
        "\n",
        "\n",
        "dataiter = iter(train_loader)\n",
        "\n",
        "images, labels = next(dataiter)\n",
        "\n",
        "**dataiter = iter(train_loader):**\n",
        " Converts the train_loader (a DataLoader object) into an iterator to fetch one batch of training data.\n",
        "\n",
        "**images, labels = next(dataiter):** Uses the next function to get the next batch of images and labels from the train_loader.\n",
        "\n",
        "**This returns two tensors:**\n",
        "\n",
        "**images**: A batch of images (in tensor format).\n",
        "labels: Corresponding labels for each image in the batch.\n",
        "Convert Images to NumPy Format\n",
        "\n",
        "\n",
        "**images = images.numpy()**\n",
        "Converts the images from a PyTorch tensor to a NumPy array, which is compatible with Matplotlib for visualization. **This step is necessary because Matplotlib expects image data in a NumPy array format, not a tensor.**\n",
        "\n",
        "**Set Up the Plot**\n",
        "\n",
        "**fig = plt.figure(figsize=(25, 4))**\n",
        "\n",
        "**fig = plt.figure(figsize=(25, 4)):** Initializes a figure with a specified size (25 inches wide by 4 inches tall). This will be used to plot the images in a single row.\n",
        "\n",
        "**Plot Each Image and Label in the Batch**\n",
        "\n",
        "\n",
        "for idx in np.arange(20):\n",
        "    ax = fig.add_subplot(2, int(20/2), idx+1, xticks=[], yticks=[])\n",
        "    ax.imshow(np.squeeze(images[idx]), cmap='gray')\n",
        "    ax.set_title(str(labels[idx].item()))\n",
        "\n",
        "**for idx in np.arange(20):** Loops through the first 20 images and labels in the batch.\n",
        "\n",
        "**ax = fig.add_subplot(2, int(20/2), idx+1, xticks=[], yticks=[]):**\n",
        "Adds a subplot for each image.\n",
        "\n",
        "**2, int(20/2):** Specifies a grid of 2 rows and 10 columns.\n",
        "\n",
        "**idx+1:** Places each image in its respective position within the grid.\n",
        "\n",
        "**xticks=[], yticks=[]:** Removes tick marks on the x and y axes for a cleaner display.\n",
        "\n",
        "**ax.imshow(np.squeeze(images[idx]), cmap='gray'):** Displays the image in grayscale.\n",
        "\n",
        "**np.squeeze(images[idx]):** Removes any unnecessary single-dimensional entries from the image shape (for example, if it’s [1,28,28], it will become [28,28]).\n",
        "\n",
        "*ax.set_title(str(labels[idx].item())):** Sets the title of each subplot to the label of the image.\n",
        "\n",
        "**labels[idx].item():* Retrieves the actual label value from the tensor."
      ],
      "metadata": {
        "id": "nqDYslFbO1pq"
      }
    },
    {
      "cell_type": "code",
      "metadata": {
        "id": "tKxpQMsr6kUf",
        "colab": {
          "base_uri": "https://localhost:8080/",
          "height": 323
        },
        "outputId": "b9e4b7ca-166a-4ac9-ec7e-148e17929a4c"
      },
      "source": [
        "print(\"Some of the training samples and their labels : \\n\")\n",
        "\n",
        "# obtain one batch of training images\n",
        "dataiter = iter(train_loader)\n",
        "images, labels = next(dataiter)\n",
        "images = images.numpy()\n",
        "\n",
        "# plot the images in the batch, along with the corresponding labels\n",
        "fig = plt.figure(figsize=(25, 4))\n",
        "for idx in np.arange(20):\n",
        "    ax = fig.add_subplot(2,int(20/2), idx+1, xticks=[], yticks=[])\n",
        "    ax.imshow(np.squeeze(images[idx]), cmap='gray')\n",
        "    # print out the correct label for each image\n",
        "    # .item() gets the value contained in a Tensor\n",
        "    ax.set_title(str(labels[idx].item()))"
      ],
      "execution_count": 8,
      "outputs": [
        {
          "output_type": "stream",
          "name": "stdout",
          "text": [
            "Some of the training samples and their labels : \n",
            "\n"
          ]
        },
        {
          "output_type": "display_data",
          "data": {
            "text/plain": [
              "<Figure size 2500x400 with 20 Axes>"
            ],
            "image/png": "[encoded data removed]"
          },
          "metadata": {}
        }
      ]
    },
    {
      "cell_type": "markdown",
      "source": [
        "1. Squeeze the Image\n",
        "img = np.squeeze(images[1])\n",
        "•\timages[1] selects the second image in the images batch.\n",
        "•\tnp.squeeze(images[1]) removes any singleton dimensions. For example, if the image shape is [1, 28, 28], np.squeeze() will reduce it to [28, 28], which is easier to work with when displaying in grayscale.\n",
        "2. Set Up the Figure for Plotting\n",
        "fig = plt.figure(figsize=(12, 12))\n",
        "ax = fig.add_subplot(111)\n",
        "•\tfig = plt.figure(figsize=(12, 12)): Creates a figure with a size of 12x12 inches.\n",
        "•\tax = fig.add_subplot(111): Adds a single subplot to the figure. 111 means the plot layout is 1 row, 1 column, 1 plot.\n",
        "3. Display the Image\n",
        "\n",
        "   ax.imshow(img, cmap='gray')\n",
        "\n",
        "•\tax.imshow(img, cmap='gray') displays the img in grayscale. The cmap='gray' argument ensures the pixel intensities are shown in shades from black to white.\n",
        "4. Get Image Dimensions and Threshold\n",
        "width, height = img.shape\n",
        "\n",
        "thresh = img.max() / 2.5\n",
        "\n",
        "•\twidth, height = img.shape: Stores the width and height of the image.\n",
        "•\tthresh = img.max() / 2.5: Sets a threshold for text color. img.max() gives the maximum pixel intensity (which is usually 1.0 for normalized images). Dividing by 2.5 creates a threshold value used to determine if the text color should be black or white, ensuring good contrast.\n",
        "5. Overlay Pixel Values on the Image\n",
        "for x in range(width):\n",
        "    for y in range(height):\n",
        "        val = round(img[x][y], 2) if img[x][y] != 0 else 0\n",
        "        ax.annotate(str(val), xy=(y, x),\n",
        "                    horizontalalignment='center',\n",
        "                    verticalalignment='center',\n",
        "                    color='white' if img[x][y] < thresh else 'black')\n",
        "•\tThis double-loop iterates over each pixel in the img:\n",
        "o\tval = round(img[x][y], 2) if img[x][y] != 0 else 0: Retrieves the pixel intensity at (x, y) and rounds it to two decimal places. If the value is zero, it’s kept as 0 (to avoid showing unnecessary small values).\n",
        "o\tax.annotate(...) places text on the plot at each pixel location:\n",
        "\tstr(val): Displays the pixel intensity value as text.\n",
        "\txy=(y, x): Coordinates where the text should be placed.\n",
        "\thorizontalalignment='center', verticalalignment='center': Centers the text on the pixel.\n",
        "\tcolor='white' if img[x][y] < thresh else 'black': Chooses text color based on the pixel intensity value relative to thresh. For dark pixels (below the threshold), white text is used, and for light pixels, black text is used for contrast.\n",
        "\n",
        "**Note**\n",
        "No close to 1 is white and no 0 is black and anything between them is different shades of grey\n",
        "\n",
        "Till here we did Data Analysis\n",
        "\n"
      ],
      "metadata": {
        "id": "_ladvizHViDc"
      }
    },
    {
      "cell_type": "code",
      "metadata": {
        "id": "ilr3GotJ6kUs",
        "colab": {
          "base_uri": "https://localhost:8080/",
          "height": 1000
        },
        "outputId": "977b4bc5-758f-41d9-960a-6f5a232d6413"
      },
      "source": [
        "print (\"Pixel level View of one of the training sample \\n\")\n",
        "img = np.squeeze(images[1])\n",
        "fig = plt.figure(figsize = (12,12))\n",
        "ax = fig.add_subplot(111)\n",
        "ax.imshow(img, cmap='gray')\n",
        "width, height = img.shape\n",
        "thresh = img.max()/2.5\n",
        "for x in range(width):\n",
        "    for y in range(height):\n",
        "        val = round(img[x][y],2) if img[x][y] !=0 else 0\n",
        "        ax.annotate(str(val), xy=(y,x),\n",
        "                    horizontalalignment='center',\n",
        "                    verticalalignment='center',\n",
        "                    color='white' if img[x][y]<thresh else 'black')\n",
        "\n",
        "print()"
      ],
      "execution_count": 9,
      "outputs": [
        {
          "output_type": "stream",
          "name": "stdout",
          "text": [
            "Pixel level View of one of the training sample \n",
            "\n",
            "\n"
          ]
        },
        {
          "output_type": "display_data",
          "data": {
            "text/plain": [
              "<Figure size 1200x1200 with 1 Axes>"
            ],
            "image/png": "[encoded data removed]"
          },
          "metadata": {}
        }
      ]
    },
    {
      "cell_type": "markdown",
      "metadata": {
        "id": "vbm-8HxIqvxR"
      },
      "source": [
        "### Initializing CUDA\n",
        "\n",
        "CUDA is used as an interface between our code and the GPU.\n",
        "\n",
        "Normally, we run the code in the CPU. To run it in the GPU, we need CUDA. Check if CUDA is available:"
      ]
    },
    {
      "cell_type": "code",
      "metadata": {
        "id": "YHj_ZREiqvxU",
        "colab": {
          "base_uri": "https://localhost:8080/"
        },
        "outputId": "c5f490f0-4232-402c-ebce-7f68c5881a5d"
      },
      "source": [
        "# To test whether GPU instance is present in the system of not.\n",
        "use_cuda = torch.cuda.is_available()\n",
        "print('Using PyTorch version:', torch.__version__, 'CUDA:', use_cuda)"
      ],
      "execution_count": 10,
      "outputs": [
        {
          "output_type": "stream",
          "name": "stdout",
          "text": [
            "Using PyTorch version: 2.5.0+cu121 CUDA: True\n"
          ]
        }
      ]
    },
    {
      "cell_type": "markdown",
      "metadata": {
        "id": "DuGyWSz8q4NQ"
      },
      "source": [
        "If it's False, then we run the program on CPU. If it's True, then we run the program on GPU.\n",
        "\n",
        "Let us initialize some GPU-related variables:"
      ]
    },
    {
      "cell_type": "code",
      "metadata": {
        "id": "m_WeWksDqvxb",
        "colab": {
          "base_uri": "https://localhost:8080/"
        },
        "outputId": "1fe38146-96a7-4dce-b65d-688fd5a99972"
      },
      "source": [
        "device = torch.device(\"cuda\" if use_cuda else \"cpu\")\n",
        "device"
      ],
      "execution_count": 11,
      "outputs": [
        {
          "output_type": "execute_result",
          "data": {
            "text/plain": [
              "device(type='cuda')"
            ]
          },
          "metadata": {},
          "execution_count": 11
        }
      ]
    },
    {
      "cell_type": "markdown",
      "source": [
        "1. Defining the Neural Network Class\n",
        "\n",
        "class Net(nn.Module):\n",
        "\n",
        "•\tThis line defines a class Net that inherits from nn.Module, which is the base class for all neural network modules in PyTorch. By inheriting nn.Module, Net gains essential functionality, such as handling layers, weights, and the forward pass.\n",
        "\n",
        "2. Network Initialization (__init__ method)\n",
        "\n",
        "\n",
        "```\n",
        "# This is formatted as code\n",
        "def __init__(self):\n",
        "    super(Net, self).__init__()\n",
        "    self.fc1 = nn.Linear(28 * 28, 512)\n",
        "    self.fc2 = nn.Linear(512, 512)\n",
        "    self.fc3 = nn.Linear(512, 10)\n",
        "    #self.dropout = nn.Dropout(0.2)\n",
        "```\n",
        "\n",
        "\n",
        "•\tdef __init__(self): This is the constructor, called when the network is initialized with Net().\n",
        "\n",
        "•\tsuper(Net, self).__init__(): Calls the constructor of the parent class (nn.Module) to inherit its properties.\n",
        "\n",
        "•\tLayers Defined:\n",
        "o\tself.fc1 = nn.Linear(28 * 28, 512): Defines the first fully connected (dense) layer. This layer:\n",
        "\tTakes an input size of 28 * 28 = 784 (matching the MNIST image size, 28x28 pixels).\n",
        "\n",
        "\n",
        "2.\tOutputs 512 features.\n",
        "o\tself.fc2 = nn.Linear(512, 512): Defines the second fully connected layer, taking 512 inputs and producing 512 outputs.\n",
        "o\tself.fc3 = nn.Linear(512, 10): Defines the output layer, taking 512 inputs and producing 10 outputs (one for each digit class, 0-9).\n",
        "\n",
        "•\tOptional Dropout Layer:\n",
        "o\tself.dropout = nn.Dropout(0.2): This is a commented-out layer that would apply dropout with a 20% drop rate to help prevent overfitting by randomly setting 20% of the outputs to zero during training. Dropout can improve generalization on unseen data but isn’t used here.\n",
        "\n",
        "\n",
        "\n",
        "\n",
        "3. Forward Pass (forward method)\n",
        "\n",
        "```\n",
        "# This is formatted as code\n",
        "def forward(self, x):\n",
        "    x = x.view(-1, 28 * 28)\n",
        "    x = F.relu(self.fc1(x))\n",
        "    x = F.relu(self.fc2(x))\n",
        "    x = F.relu(self.fc3(x))\n",
        "    return x\n",
        "```\n",
        "\n",
        "\n",
        "•\tThis method defines the forward pass, specifying how data flows through the network layers.\n",
        "\n",
        "•\tx = x.view(-1, 28 * 28): Reshapes (or flattens) the input images from a 2D (28x28) format to a 1D tensor of size 784. The -1 dynamically infers the batch size.\n",
        "\n",
        "•\tLayer Operations with Activation:\n",
        "o\tx = F.relu(self.fc1(x)): Passes x through the first fully connected layer (fc1) and then applies the ReLU activation function. ReLU (Rectified Linear Unit) introduces non-linearity, helping the network learn complex patterns.\n",
        "o\tx = F.relu(self.fc2(x)): Passes x through the second fully connected layer (fc2) with ReLU activation.\n",
        "\n",
        "o\tx = F.relu(self.fc3(x)): Passes x through the final layer (fc3). ReLU is applied here, although typically a different activation might be used at the output for classification (e.g., softmax).\n",
        "\n",
        "4. Initializing the Model\n",
        "\n",
        "\n",
        "```\n",
        "# This is formatted as code\n",
        "model = Net().to(device)\n",
        "print(model)\n",
        "```\n",
        "\n",
        "•\tmodel = Net().to(device): Creates an instance of Net and moves it to the device specified (usually a GPU if available, else CPU).\n",
        "\n",
        "•\tprint(model): Prints the model architecture, listing each layer with its parameters, which helps verify the model structure.\n"
      ],
      "metadata": {
        "id": "8am4uZ9xen6b"
      }
    },
    {
      "cell_type": "code",
      "metadata": {
        "id": "h2-9un3H2KnE",
        "colab": {
          "base_uri": "https://localhost:8080/"
        },
        "outputId": "d0e6a70f-10bb-46f1-bc68-026b0b43b89f"
      },
      "source": [
        "## Define the NN architecture\n",
        "\n",
        "class Net(nn.Module):\n",
        "    def __init__(self):\n",
        "        super(Net, self).__init__()\n",
        "        self.fc1 = nn.Linear(28 * 28, 512)\n",
        "        self.fc2 = nn.Linear(512, 512)       # linear layer (n_hidden -> hidden_2)\n",
        "        self.fc3 = nn.Linear(512, 10)        # linear layer (n_hidden -> 10)\n",
        "        #self.dropout = nn.Dropout(0.2)       # dropout layer (p=0.2) # dropout prevents overfitting of data\n",
        "\n",
        "    def forward(self, x):\n",
        "        # flatten image input\n",
        "        x = x.view(-1, 28 * 28)\n",
        "        # add hidden layer, with relu activation function\n",
        "        x = F.relu(self.fc1(x))\n",
        "        x = F.relu(self.fc2(x))\n",
        "        x = F.relu(self.fc3(x)) # F.relu\n",
        "        return x\n",
        "\n",
        "# initialize the NN\n",
        "model = Net().to(device)\n",
        "print(model)"
      ],
      "execution_count": 12,
      "outputs": [
        {
          "output_type": "stream",
          "name": "stdout",
          "text": [
            "Net(\n",
            "  (fc1): Linear(in_features=784, out_features=512, bias=True)\n",
            "  (fc2): Linear(in_features=512, out_features=512, bias=True)\n",
            "  (fc3): Linear(in_features=512, out_features=10, bias=True)\n",
            ")\n"
          ]
        }
      ]
    },
    {
      "cell_type": "code",
      "source": [
        "!pip install torchsummary"
      ],
      "metadata": {
        "id": "wbomKrR02KnF",
        "colab": {
          "base_uri": "https://localhost:8080/"
        },
        "outputId": "2c80002f-e1a6-4274-8073-c80a69cd4f20"
      },
      "execution_count": 13,
      "outputs": [
        {
          "output_type": "stream",
          "name": "stdout",
          "text": [
            "Requirement already satisfied: torchsummary in /usr/local/lib/python3.10/dist-packages (1.5.1)\n"
          ]
        }
      ]
    },
    {
      "cell_type": "code",
      "source": [
        "from torchsummary import summary"
      ],
      "metadata": {
        "id": "K_UpKROl2KnG"
      },
      "execution_count": 14,
      "outputs": []
    },
    {
      "cell_type": "markdown",
      "source": [
        "**Here's a breakdown of each line:**\n",
        "\n",
        "**1.\tImporting summary from torchsummary**\n",
        "\n",
        "\n",
        "`from torchsummary import summary`\n",
        "\n",
        "* torchsummary is a third-party library that provides a summary function to display a detailed model overview similar to Keras's model.summary().\n",
        "* The summary function is useful for checking the model architecture, layer output shapes, and total parameter count, which helps in debugging or optimizing model design.\n",
        "\n",
        "**2.\tModel Summary Function**\n",
        "\n",
        "`summary(model, input_size=(1, 784), batch_size=-1)`\n",
        "\n",
        "summary(model, input_size=(1, 784), batch_size=-1): Calls the summary function to display the architecture of model:\n",
        "\n",
        "*  \tmodel: This is the PyTorch model to be summarized (in this case, an instance of Net).\n",
        "\n",
        "* `input_size=(1, 784):` Specifies the size of the model input, where:\n",
        "\n",
        "*  1 represents the number of input channels (for grayscale images, as in MNIST).\n",
        "*   784 represents the total number of pixels after flattening a 28x28 image.\n",
        "*   batch_size=-1: This argument is only used for display and can be any integer or -1. It does not affect the model structure but simply labels the batch dimension in the printed summary.\n",
        "\n",
        "\n",
        "**Example Output**\n",
        "\n",
        "**The summary provides details for each layer, including:**\n",
        "\n",
        "*   Layer Type: Each layer type (e.g., Linear for fully connected layers).\n",
        "*   Output Shape: The shape of the data after passing through each layer.\n",
        "*   Param #: The number of learnable parameters for each layer.\n",
        "*   Total Params: The total number of trainable parameters in the model.\n",
        "*   Trainable Params: The subset of parameters that are trainable (can be updated during training).\n",
        "\n",
        "\n",
        "\n"
      ],
      "metadata": {
        "id": "c8JS2c1OFvrj"
      }
    },
    {
      "cell_type": "code",
      "source": [
        "summary(model, input_size = (1,784), batch_size = -1)"
      ],
      "metadata": {
        "id": "FXvm1Wz62KnI",
        "colab": {
          "base_uri": "https://localhost:8080/"
        },
        "outputId": "55b18af6-9817-42f7-ee0e-b6769d97f452"
      },
      "execution_count": 15,
      "outputs": [
        {
          "output_type": "stream",
          "name": "stdout",
          "text": [
            "----------------------------------------------------------------\n",
            "        Layer (type)               Output Shape         Param #\n",
            "================================================================\n",
            "            Linear-1                  [-1, 512]         401,920\n",
            "            Linear-2                  [-1, 512]         262,656\n",
            "            Linear-3                   [-1, 10]           5,130\n",
            "================================================================\n",
            "Total params: 669,706\n",
            "Trainable params: 669,706\n",
            "Non-trainable params: 0\n",
            "----------------------------------------------------------------\n",
            "Input size (MB): 0.00\n",
            "Forward/backward pass size (MB): 0.01\n",
            "Params size (MB): 2.55\n",
            "Estimated Total Size (MB): 2.57\n",
            "----------------------------------------------------------------\n"
          ]
        }
      ]
    },
    {
      "cell_type": "code",
      "source": [
        "dataiter = iter(train_loader)\n",
        "images, labels = next(dataiter)\n",
        "!pip install torchviz\n",
        "from torchviz import make_dot\n",
        "img_grid = torchvision.utils.make_grid(images)\n",
        "make_dot(model(images), params=dict(model.named_parameters()))"
      ],
      "metadata": {
        "id": "FNzp5DENSVgA",
        "outputId": "3d4fd0f1-c81f-47f6-9eb0-4f87ddde5f00",
        "colab": {
          "base_uri": "https://localhost:8080/",
          "height": 512
        }
      },
      "execution_count": 22,
      "outputs": [
        {
          "output_type": "stream",
          "name": "stdout",
          "text": [
            "Requirement already satisfied: torchviz in /usr/local/lib/python3.10/dist-packages (0.0.2)\n",
            "Requirement already satisfied: torch in /usr/local/lib/python3.10/dist-packages (from torchviz) (2.5.0+cu121)\n",
            "Requirement already satisfied: graphviz in /usr/local/lib/python3.10/dist-packages (from torchviz) (0.20.3)\n",
            "Requirement already satisfied: filelock in /usr/local/lib/python3.10/dist-packages (from torch->torchviz) (3.16.1)\n",
            "Requirement already satisfied: typing-extensions>=4.8.0 in /usr/local/lib/python3.10/dist-packages (from torch->torchviz) (4.12.2)\n",
            "Requirement already satisfied: networkx in /usr/local/lib/python3.10/dist-packages (from torch->torchviz) (3.4.2)\n",
            "Requirement already satisfied: jinja2 in /usr/local/lib/python3.10/dist-packages (from torch->torchviz) (3.1.4)\n",
            "Requirement already satisfied: fsspec in /usr/local/lib/python3.10/dist-packages (from torch->torchviz) (2024.6.1)\n",
            "Requirement already satisfied: sympy==1.13.1 in /usr/local/lib/python3.10/dist-packages (from torch->torchviz) (1.13.1)\n",
            "Requirement already satisfied: mpmath<1.4,>=1.1.0 in /usr/local/lib/python3.10/dist-packages (from sympy==1.13.1->torch->torchviz) (1.3.0)\n",
            "Requirement already satisfied: MarkupSafe>=2.0 in /usr/local/lib/python3.10/dist-packages (from jinja2->torch->torchviz) (3.0.2)\n"
          ]
        },
        {
          "output_type": "error",
          "ename": "RuntimeError",
          "evalue": "Expected all tensors to be on the same device, but found at least two devices, cuda:0 and cpu! (when checking argument for argument mat1 in method wrapper_CUDA_addmm)",
          "traceback": [
            "\u001b[0;31m---------------------------------------------------------------------------\u001b[0m",
            "\u001b[0;31mRuntimeError\u001b[0m                              Traceback (most recent call last)",
            "\u001b[0;32m<ipython-input-22-b99e139b1700>\u001b[0m in \u001b[0;36m<cell line: 6>\u001b[0;34m()\u001b[0m\n\u001b[1;32m      4\u001b[0m \u001b[0;32mfrom\u001b[0m \u001b[0mtorchviz\u001b[0m \u001b[0;32mimport\u001b[0m \u001b[0mmake_dot\u001b[0m\u001b[0;34m\u001b[0m\u001b[0;34m\u001b[0m\u001b[0m\n\u001b[1;32m      5\u001b[0m \u001b[0mimg_grid\u001b[0m \u001b[0;34m=\u001b[0m \u001b[0mtorchvision\u001b[0m\u001b[0;34m.\u001b[0m\u001b[0mutils\u001b[0m\u001b[0;34m.\u001b[0m\u001b[0mmake_grid\u001b[0m\u001b[0;34m(\u001b[0m\u001b[0mimages\u001b[0m\u001b[0;34m)\u001b[0m\u001b[0;34m\u001b[0m\u001b[0;34m\u001b[0m\u001b[0m\n\u001b[0;32m----> 6\u001b[0;31m \u001b[0mmake_dot\u001b[0m\u001b[0;34m(\u001b[0m\u001b[0mmodel\u001b[0m\u001b[0;34m(\u001b[0m\u001b[0mimages\u001b[0m\u001b[0;34m)\u001b[0m\u001b[0;34m,\u001b[0m \u001b[0mparams\u001b[0m\u001b[0;34m=\u001b[0m\u001b[0mdict\u001b[0m\u001b[0;34m(\u001b[0m\u001b[0mmodel\u001b[0m\u001b[0;34m.\u001b[0m\u001b[0mnamed_parameters\u001b[0m\u001b[0;34m(\u001b[0m\u001b[0;34m)\u001b[0m\u001b[0;34m)\u001b[0m\u001b[0;34m)\u001b[0m\u001b[0;34m\u001b[0m\u001b[0;34m\u001b[0m\u001b[0m\n\u001b[0m",
            "\u001b[0;32m/usr/local/lib/python3.10/dist-packages/torch/nn/modules/module.py\u001b[0m in \u001b[0;36m_wrapped_call_impl\u001b[0;34m(self, *args, **kwargs)\u001b[0m\n\u001b[1;32m   1734\u001b[0m             \u001b[0;32mreturn\u001b[0m \u001b[0mself\u001b[0m\u001b[0;34m.\u001b[0m\u001b[0m_compiled_call_impl\u001b[0m\u001b[0;34m(\u001b[0m\u001b[0;34m*\u001b[0m\u001b[0margs\u001b[0m\u001b[0;34m,\u001b[0m \u001b[0;34m**\u001b[0m\u001b[0mkwargs\u001b[0m\u001b[0;34m)\u001b[0m  \u001b[0;31m# type: ignore[misc]\u001b[0m\u001b[0;34m\u001b[0m\u001b[0;34m\u001b[0m\u001b[0m\n\u001b[1;32m   1735\u001b[0m         \u001b[0;32melse\u001b[0m\u001b[0;34m:\u001b[0m\u001b[0;34m\u001b[0m\u001b[0;34m\u001b[0m\u001b[0m\n\u001b[0;32m-> 1736\u001b[0;31m             \u001b[0;32mreturn\u001b[0m \u001b[0mself\u001b[0m\u001b[0;34m.\u001b[0m\u001b[0m_call_impl\u001b[0m\u001b[0;34m(\u001b[0m\u001b[0;34m*\u001b[0m\u001b[0margs\u001b[0m\u001b[0;34m,\u001b[0m \u001b[0;34m**\u001b[0m\u001b[0mkwargs\u001b[0m\u001b[0;34m)\u001b[0m\u001b[0;34m\u001b[0m\u001b[0;34m\u001b[0m\u001b[0m\n\u001b[0m\u001b[1;32m   1737\u001b[0m \u001b[0;34m\u001b[0m\u001b[0m\n\u001b[1;32m   1738\u001b[0m     \u001b[0;31m# torchrec tests the code consistency with the following code\u001b[0m\u001b[0;34m\u001b[0m\u001b[0;34m\u001b[0m\u001b[0m\n",
            "\u001b[0;32m/usr/local/lib/python3.10/dist-packages/torch/nn/modules/module.py\u001b[0m in \u001b[0;36m_call_impl\u001b[0;34m(self, *args, **kwargs)\u001b[0m\n\u001b[1;32m   1745\u001b[0m                 \u001b[0;32mor\u001b[0m \u001b[0m_global_backward_pre_hooks\u001b[0m \u001b[0;32mor\u001b[0m \u001b[0m_global_backward_hooks\u001b[0m\u001b[0;34m\u001b[0m\u001b[0;34m\u001b[0m\u001b[0m\n\u001b[1;32m   1746\u001b[0m                 or _global_forward_hooks or _global_forward_pre_hooks):\n\u001b[0;32m-> 1747\u001b[0;31m             \u001b[0;32mreturn\u001b[0m \u001b[0mforward_call\u001b[0m\u001b[0;34m(\u001b[0m\u001b[0;34m*\u001b[0m\u001b[0margs\u001b[0m\u001b[0;34m,\u001b[0m \u001b[0;34m**\u001b[0m\u001b[0mkwargs\u001b[0m\u001b[0;34m)\u001b[0m\u001b[0;34m\u001b[0m\u001b[0;34m\u001b[0m\u001b[0m\n\u001b[0m\u001b[1;32m   1748\u001b[0m \u001b[0;34m\u001b[0m\u001b[0m\n\u001b[1;32m   1749\u001b[0m         \u001b[0mresult\u001b[0m \u001b[0;34m=\u001b[0m \u001b[0;32mNone\u001b[0m\u001b[0;34m\u001b[0m\u001b[0;34m\u001b[0m\u001b[0m\n",
            "\u001b[0;32m<ipython-input-12-de47266ae207>\u001b[0m in \u001b[0;36mforward\u001b[0;34m(self, x)\u001b[0m\n\u001b[1;32m     13\u001b[0m         \u001b[0mx\u001b[0m \u001b[0;34m=\u001b[0m \u001b[0mx\u001b[0m\u001b[0;34m.\u001b[0m\u001b[0mview\u001b[0m\u001b[0;34m(\u001b[0m\u001b[0;34m-\u001b[0m\u001b[0;36m1\u001b[0m\u001b[0;34m,\u001b[0m \u001b[0;36m28\u001b[0m \u001b[0;34m*\u001b[0m \u001b[0;36m28\u001b[0m\u001b[0;34m)\u001b[0m\u001b[0;34m\u001b[0m\u001b[0;34m\u001b[0m\u001b[0m\n\u001b[1;32m     14\u001b[0m         \u001b[0;31m# add hidden layer, with relu activation function\u001b[0m\u001b[0;34m\u001b[0m\u001b[0;34m\u001b[0m\u001b[0m\n\u001b[0;32m---> 15\u001b[0;31m         \u001b[0mx\u001b[0m \u001b[0;34m=\u001b[0m \u001b[0mF\u001b[0m\u001b[0;34m.\u001b[0m\u001b[0mrelu\u001b[0m\u001b[0;34m(\u001b[0m\u001b[0mself\u001b[0m\u001b[0;34m.\u001b[0m\u001b[0mfc1\u001b[0m\u001b[0;34m(\u001b[0m\u001b[0mx\u001b[0m\u001b[0;34m)\u001b[0m\u001b[0;34m)\u001b[0m\u001b[0;34m\u001b[0m\u001b[0;34m\u001b[0m\u001b[0m\n\u001b[0m\u001b[1;32m     16\u001b[0m         \u001b[0mx\u001b[0m \u001b[0;34m=\u001b[0m \u001b[0mF\u001b[0m\u001b[0;34m.\u001b[0m\u001b[0mrelu\u001b[0m\u001b[0;34m(\u001b[0m\u001b[0mself\u001b[0m\u001b[0;34m.\u001b[0m\u001b[0mfc2\u001b[0m\u001b[0;34m(\u001b[0m\u001b[0mx\u001b[0m\u001b[0;34m)\u001b[0m\u001b[0;34m)\u001b[0m\u001b[0;34m\u001b[0m\u001b[0;34m\u001b[0m\u001b[0m\n\u001b[1;32m     17\u001b[0m         \u001b[0mx\u001b[0m \u001b[0;34m=\u001b[0m \u001b[0mF\u001b[0m\u001b[0;34m.\u001b[0m\u001b[0mrelu\u001b[0m\u001b[0;34m(\u001b[0m\u001b[0mself\u001b[0m\u001b[0;34m.\u001b[0m\u001b[0mfc3\u001b[0m\u001b[0;34m(\u001b[0m\u001b[0mx\u001b[0m\u001b[0;34m)\u001b[0m\u001b[0;34m)\u001b[0m \u001b[0;31m# F.relu\u001b[0m\u001b[0;34m\u001b[0m\u001b[0;34m\u001b[0m\u001b[0m\n",
            "\u001b[0;32m/usr/local/lib/python3.10/dist-packages/torch/nn/modules/module.py\u001b[0m in \u001b[0;36m_wrapped_call_impl\u001b[0;34m(self, *args, **kwargs)\u001b[0m\n\u001b[1;32m   1734\u001b[0m             \u001b[0;32mreturn\u001b[0m \u001b[0mself\u001b[0m\u001b[0;34m.\u001b[0m\u001b[0m_compiled_call_impl\u001b[0m\u001b[0;34m(\u001b[0m\u001b[0;34m*\u001b[0m\u001b[0margs\u001b[0m\u001b[0;34m,\u001b[0m \u001b[0;34m**\u001b[0m\u001b[0mkwargs\u001b[0m\u001b[0;34m)\u001b[0m  \u001b[0;31m# type: ignore[misc]\u001b[0m\u001b[0;34m\u001b[0m\u001b[0;34m\u001b[0m\u001b[0m\n\u001b[1;32m   1735\u001b[0m         \u001b[0;32melse\u001b[0m\u001b[0;34m:\u001b[0m\u001b[0;34m\u001b[0m\u001b[0;34m\u001b[0m\u001b[0m\n\u001b[0;32m-> 1736\u001b[0;31m             \u001b[0;32mreturn\u001b[0m \u001b[0mself\u001b[0m\u001b[0;34m.\u001b[0m\u001b[0m_call_impl\u001b[0m\u001b[0;34m(\u001b[0m\u001b[0;34m*\u001b[0m\u001b[0margs\u001b[0m\u001b[0;34m,\u001b[0m \u001b[0;34m**\u001b[0m\u001b[0mkwargs\u001b[0m\u001b[0;34m)\u001b[0m\u001b[0;34m\u001b[0m\u001b[0;34m\u001b[0m\u001b[0m\n\u001b[0m\u001b[1;32m   1737\u001b[0m \u001b[0;34m\u001b[0m\u001b[0m\n\u001b[1;32m   1738\u001b[0m     \u001b[0;31m# torchrec tests the code consistency with the following code\u001b[0m\u001b[0;34m\u001b[0m\u001b[0;34m\u001b[0m\u001b[0m\n",
            "\u001b[0;32m/usr/local/lib/python3.10/dist-packages/torch/nn/modules/module.py\u001b[0m in \u001b[0;36m_call_impl\u001b[0;34m(self, *args, **kwargs)\u001b[0m\n\u001b[1;32m   1745\u001b[0m                 \u001b[0;32mor\u001b[0m \u001b[0m_global_backward_pre_hooks\u001b[0m \u001b[0;32mor\u001b[0m \u001b[0m_global_backward_hooks\u001b[0m\u001b[0;34m\u001b[0m\u001b[0;34m\u001b[0m\u001b[0m\n\u001b[1;32m   1746\u001b[0m                 or _global_forward_hooks or _global_forward_pre_hooks):\n\u001b[0;32m-> 1747\u001b[0;31m             \u001b[0;32mreturn\u001b[0m \u001b[0mforward_call\u001b[0m\u001b[0;34m(\u001b[0m\u001b[0;34m*\u001b[0m\u001b[0margs\u001b[0m\u001b[0;34m,\u001b[0m \u001b[0;34m**\u001b[0m\u001b[0mkwargs\u001b[0m\u001b[0;34m)\u001b[0m\u001b[0;34m\u001b[0m\u001b[0;34m\u001b[0m\u001b[0m\n\u001b[0m\u001b[1;32m   1748\u001b[0m \u001b[0;34m\u001b[0m\u001b[0m\n\u001b[1;32m   1749\u001b[0m         \u001b[0mresult\u001b[0m \u001b[0;34m=\u001b[0m \u001b[0;32mNone\u001b[0m\u001b[0;34m\u001b[0m\u001b[0;34m\u001b[0m\u001b[0m\n",
            "\u001b[0;32m/usr/local/lib/python3.10/dist-packages/torch/nn/modules/linear.py\u001b[0m in \u001b[0;36mforward\u001b[0;34m(self, input)\u001b[0m\n\u001b[1;32m    123\u001b[0m \u001b[0;34m\u001b[0m\u001b[0m\n\u001b[1;32m    124\u001b[0m     \u001b[0;32mdef\u001b[0m \u001b[0mforward\u001b[0m\u001b[0;34m(\u001b[0m\u001b[0mself\u001b[0m\u001b[0;34m,\u001b[0m \u001b[0minput\u001b[0m\u001b[0;34m:\u001b[0m \u001b[0mTensor\u001b[0m\u001b[0;34m)\u001b[0m \u001b[0;34m->\u001b[0m \u001b[0mTensor\u001b[0m\u001b[0;34m:\u001b[0m\u001b[0;34m\u001b[0m\u001b[0;34m\u001b[0m\u001b[0m\n\u001b[0;32m--> 125\u001b[0;31m         \u001b[0;32mreturn\u001b[0m \u001b[0mF\u001b[0m\u001b[0;34m.\u001b[0m\u001b[0mlinear\u001b[0m\u001b[0;34m(\u001b[0m\u001b[0minput\u001b[0m\u001b[0;34m,\u001b[0m \u001b[0mself\u001b[0m\u001b[0;34m.\u001b[0m\u001b[0mweight\u001b[0m\u001b[0;34m,\u001b[0m \u001b[0mself\u001b[0m\u001b[0;34m.\u001b[0m\u001b[0mbias\u001b[0m\u001b[0;34m)\u001b[0m\u001b[0;34m\u001b[0m\u001b[0;34m\u001b[0m\u001b[0m\n\u001b[0m\u001b[1;32m    126\u001b[0m \u001b[0;34m\u001b[0m\u001b[0m\n\u001b[1;32m    127\u001b[0m     \u001b[0;32mdef\u001b[0m \u001b[0mextra_repr\u001b[0m\u001b[0;34m(\u001b[0m\u001b[0mself\u001b[0m\u001b[0;34m)\u001b[0m \u001b[0;34m->\u001b[0m \u001b[0mstr\u001b[0m\u001b[0;34m:\u001b[0m\u001b[0;34m\u001b[0m\u001b[0;34m\u001b[0m\u001b[0m\n",
            "\u001b[0;31mRuntimeError\u001b[0m: Expected all tensors to be on the same device, but found at least two devices, cuda:0 and cpu! (when checking argument for argument mat1 in method wrapper_CUDA_addmm)"
          ]
        }
      ]
    },
    {
      "cell_type": "markdown",
      "source": [
        "•  Loss Function Specification\n",
        "\n",
        "\n",
        "**criterion = nn.CrossEntropyLoss()**\n",
        "\n",
        "\n",
        "*   criterion (short for \"loss criterion\") specifies the loss function to be used. In this case, nn.CrossEntropyLoss() is chosen.\n",
        "\n",
        "**Purpose of Cross-Entropy Loss:**\n",
        "\n",
        "*\tCrossEntropyLoss is typically used in classification tasks where the goal is to classify each input into one of multiple classes.\n",
        "*\tIt computes the difference between the model’s predicted probability distribution over classes and the actual class labels.\n",
        "*\tThis loss encourages the model to assign higher probabilities to the correct classes by penalizing incorrect predictions, helping the model adjust its weights to improve accuracy over time.\n",
        "\n",
        "**•\tHow it Works:**\n",
        "*\tCrossEntropyLoss combines log-softmax and negative log likelihood loss in a single step. Therefore, it expects raw (unnormalized) scores (also called \"logits\") as the model’s output, which CrossEntropyLoss will internally process for stability and correctness.\n",
        "\n",
        "**•  Optimizer Specification**\n",
        "\n",
        "`optimizer = torch.optim.SGD(model.parameters(), lr=0.01)`\n",
        "\n",
        "*\toptimizer is set to torch.optim.SGD, which is a popular optimizer using Stochastic Gradient Descent (SGD).\n",
        "\n",
        "**•\tPurpose of SGD:**\n",
        "*\tThe optimizer is responsible for updating the model's weights based on the gradients calculated by backpropagation, with the goal of minimizing the loss.\n",
        "*\tSGD updates the model parameters by taking steps in the direction of the negative gradient of the loss with respect to each parameter.\n",
        "\n",
        "**. Parameters:**\n",
        "*\tmodel.parameters(): Passes the parameters of the model to the optimizer so it knows which weights to update.\n",
        "*\t`lr=0.01`: Sets the learning rate to 0.01, which controls the size of the steps the optimizer takes during weight updates.\n",
        "*A small learning rate means slower but more precise convergence, while a large learning rate means faster but potentially unstable updates.\n",
        "\n",
        "**•  Print Statement**\n",
        "\n",
        "`print(criterion, optimizer)`\n",
        "*\tThis prints the loss function and optimizer objects, which provides a quick confirmation of the selected loss and optimizer configurations.\n",
        "\n"
      ],
      "metadata": {
        "id": "QEpGQJ3VV3GS"
      }
    },
    {
      "cell_type": "code",
      "metadata": {
        "id": "9IRb32R72KnJ",
        "colab": {
          "base_uri": "https://localhost:8080/"
        },
        "outputId": "946ef55a-b94e-4d5d-fd59-a733e1f7e53b"
      },
      "source": [
        "## Specify loss and optimization functions\n",
        "\n",
        "# specify loss function\n",
        "criterion = nn.CrossEntropyLoss()\n",
        "\n",
        "# specify optimizer\n",
        "optimizer = torch.optim.SGD(model.parameters(), lr=0.01)\n",
        "\n",
        "print(criterion, optimizer)"
      ],
      "execution_count": 21,
      "outputs": [
        {
          "output_type": "stream",
          "name": "stdout",
          "text": [
            "CrossEntropyLoss() SGD (\n",
            "Parameter Group 0\n",
            "    dampening: 0\n",
            "    differentiable: False\n",
            "    foreach: None\n",
            "    fused: None\n",
            "    lr: 0.01\n",
            "    maximize: False\n",
            "    momentum: 0\n",
            "    nesterov: False\n",
            "    weight_decay: 0\n",
            ")\n"
          ]
        }
      ]
    },
    {
      "cell_type": "markdown",
      "source": [
        "**1. Set Number of Epochs**\n",
        "\n",
        "`n_epochs = 20`  # suggest training between 20-50 epochs\n",
        "*\tn_epochs is the number of times the entire dataset is passed through the model during training. Here, it’s set to 20 but might be tuned between 20–50 epochs depending on the model’s performance and computational resources.\n",
        "\n",
        "**2. Prepare Model for Training**\n",
        "\n",
        "`model.train()`\n",
        "*\tmodel.train(): Sets the model to training mode, which enables certain behaviors, such as dropout and batch normalization, which are only active during training and not during evaluation or testing.\n",
        "\n",
        "**3. Training Loop**\n",
        "\n",
        "`for epoch in range(n_epochs):`\n",
        "*\tLoops over each epoch, performing the training steps for each batch of data in train_loader, followed by calculating the loss on the validation set (val_loader).\n",
        "\n",
        "**4.\tInitialize Loss Tracking Variables**\n",
        "\n",
        "\n",
        "```\n",
        "# This is formatted as code\n",
        "train_loss = 0.0\n",
        "val_loss = 0.0\n",
        "```\n",
        "*\ttrain_loss and val_loss are initialized to accumulate the training and validation losses for the epoch.\n",
        "\n",
        "**5. Train the Model on Each Batch**\n",
        "\n",
        "```\n",
        "# This is formatted as code\n",
        "for data, target in train_loader:\n",
        "    data = data.to(device)\n",
        "    target = target.to(device)\n",
        "    optimizer.zero_grad()\n",
        "    output = model(data)\n",
        "    loss = criterion(output, target)\n",
        "    loss.backward()\n",
        "    optimizer.step()\n",
        "    train_loss += loss.item() * data.size(0)\n",
        "```\n",
        "\n",
        "**This inner loop iterates over each batch in train_loader.**\n",
        "\n",
        "**•\tSteps:**\n",
        "*\tMove Data to Device: data = data.to(device) and target = target.to(device) move both the data and target labels to the specified device (usually a GPU if available).\n",
        "*\tZero Gradients: optimizer.zero_grad() clears gradients from the previous batch to prevent accumulation.\n",
        "*\tForward Pass: output = model(data) passes the batch through the model to generate predictions.\n",
        "*\tCalculate Loss: loss = criterion(output, target) computes the loss using the criterion (CrossEntropyLoss), which measures the difference between predictions and true labels.\n",
        "*\tBackward Pass: loss.backward() calculates the gradient of the loss with respect to each model parameter.\n",
        "*\tOptimizer Step: optimizer.step() updates the model parameters using the calculated gradients.\n",
        "*\tAccumulate Loss: train_loss += loss.item() * data.size(0) multiplies the batch loss by the number of examples in the batch and accumulates it into train_loss.\n",
        "\n",
        "**6. Validation Pass**\n",
        "```\n",
        "# This is formatted as code\n",
        "for data, target in val_loader:\n",
        "    data = data.to(device)\n",
        "    target = target.to(device)\n",
        "    output = model(data)\n",
        "    loss = criterion(output, target)\n",
        "    val_loss += loss.item() * data.size(0)\n",
        "```\n",
        "\n",
        "**This loop evaluates the model on the validation dataset (val_loader) without updating the model’s parameters.**\n",
        "\n",
        "**Steps:**\n",
        "*\tFor each batch, it moves the data and labels to the device, performs a forward pass, calculates the loss, and accumulates it in val_loss.\n",
        "\n",
        "\n",
        "\n",
        "\n"
      ],
      "metadata": {
        "id": "E-5TqTy5B77c"
      }
    },
    {
      "cell_type": "code",
      "metadata": {
        "id": "4LekhOKM2KnO"
      },
      "source": [
        "# number of epochs to train the model\n",
        "n_epochs = 20  # suggest training between 20-50 epochs\n",
        "\n",
        "model.train() # prep model for training\n",
        "\n",
        "for epoch in range(n_epochs):\n",
        "\n",
        "    train_loss = 0.0                    # Initialize training, val loss\n",
        "    val_loss=0.0\n",
        "\n",
        "    ###################\n",
        "    # train the model #\n",
        "    ###################\n",
        "    for data, target in train_loader:\n",
        "        data=data.to(device)\n",
        "        target=target.to(device)\n",
        "        optimizer.zero_grad()            # clear the gradients of all optimized variables\n",
        "        output = model(data)             # forward pass: compute predicted outputs by passing inputs to the model\n",
        "        loss = criterion(output, target) # calculate the loss\n",
        "        loss.backward()                  # backward pass: compute gradient of the loss with respect to model parameters\n",
        "        optimizer.step()                 # perform a single optimization step (parameter update)\n",
        "        train_loss += loss.item()*data.size(0)  # update running training loss\n",
        "\n",
        "    for data, target in val_loader:\n",
        "        data=data.to(device)\n",
        "        target=target.to(device)\n",
        "        output = model(data)                  # forward pass: compute predicted outputs by passing inputs to the model\n",
        "        loss = criterion(output, target)      # calculate the loss\n",
        "        val_loss += loss.item()*data.size(0)  # update running training loss\n",
        "\n",
        "    # print training statistics\n",
        "    train_loss = train_loss/len(train_loader.dataset)  # calculate average loss over an epoch\"\"\"\n",
        "    val_loss = val_loss/len(val_loader.dataset)        # Validation loss\n",
        "\n",
        "    print('Epoch: {} \\tTraining Loss: {:.6f} \\tValidation Loss: {:.6f}'.format( epoch+1, train_loss, val_loss ))\n",
        "    print(\"Training is done\\n\")"
      ],
      "execution_count": null,
      "outputs": []
    },
    {
      "cell_type": "code",
      "metadata": {
        "id": "VDrro8kA2KnQ"
      },
      "source": [
        "# Testing the  model\n",
        "test_loss = 0.0\n",
        "class_correct = list(0. for i in range(10))\n",
        "class_total = list(0. for i in range(10))\n",
        "\n",
        "model.eval() # prep model for *evaluation*\n",
        "\n",
        "for data, target in test_loader:\n",
        "    data=data.to(device)\n",
        "    target=target.to(device)\n",
        "    output = model(data)                            # forward pass: compute predicted outputs by passing inputs to the model\n",
        "    loss = criterion(output, target)                # calculate the loss\n",
        "    test_loss += loss.item()*data.size(0)           # update test loss\n",
        "    _, pred = torch.max(output, 1)                  # convert output probabilities to predicted class\n",
        "    correct = np.squeeze(pred.eq(target.data.view_as(pred)))        # compare predictions to true label\n",
        "\n",
        "    # calculate test accuracy for each object class\n",
        "    for i in range(batch_size):\n",
        "        label = target.data[i]\n",
        "        class_correct[label] += correct[i].item()\n",
        "        class_total[label] += 1\n",
        "\n",
        "# calculate and print avg test loss\n",
        "test_loss = test_loss/len(test_loader.dataset)\n",
        "print('Test Loss: {:.6f}\\n'.format(test_loss))\n",
        "\n",
        "for i in range(10):\n",
        "    if class_total[i] > 0:\n",
        "        print('Test Accuracy of %5s: %2d%% (%2d/%2d)' % (\n",
        "            str(i), 100 * class_correct[i] / class_total[i],\n",
        "            np.sum(class_correct[i]), np.sum(class_total[i])))\n",
        "    else:\n",
        "        print('Test Accuracy of %5s: N/A (no training examples)' % (classes[i]))\n",
        "\n",
        "print('\\nTest Accuracy (Overall): %2d%% (%2d/%2d)' % (\n",
        "    100. * np.sum(class_correct) / np.sum(class_total),\n",
        "    np.sum(class_correct), np.sum(class_total)))\n",
        "print()"
      ],
      "execution_count": null,
      "outputs": []
    },
    {
      "cell_type": "code",
      "metadata": {
        "id": "_TQSSEjH2KnS"
      },
      "source": [
        "# obtain one batch of test images\n",
        "\n",
        "print(\"Test Images and their predicted labels : \\n\")\n",
        "\n",
        "dataiter = iter(test_loader)\n",
        "images, labels = next(dataiter)\n",
        "images, labels = images.to(device), labels.to(device)\n",
        "\n",
        "# get sample outputs\n",
        "output = model(images)\n",
        "\n",
        "_, preds = torch.max(output, 1)  # convert output probabilities to predicted class\n",
        "images = images.cpu()        # prep images for display\n",
        "\n",
        "# plot the images in the batch, along with predicted and true labels\n",
        "fig = plt.figure(figsize=(25, 4))\n",
        "for idx in np.arange(20):\n",
        "    ax = fig.add_subplot(2, int(20/2), idx+1, xticks=[], yticks=[])\n",
        "    ax.imshow(np.squeeze(images[idx]), cmap='gray')\n",
        "    ax.set_title(\"{} ({})\".format(str(preds[idx].item()), str(labels[idx].item())),\n",
        "                 color=(\"green\" if preds[idx]==labels[idx] else \"red\"))"
      ],
      "execution_count": null,
      "outputs": []
    },
    {
      "cell_type": "markdown",
      "metadata": {
        "id": "VHfHdGCP_n6Y"
      },
      "source": [
        "### Please answer the questions below to complete the experiment:\n",
        "\n",
        "\n"
      ]
    },
    {
      "cell_type": "code",
      "metadata": {
        "id": "NMzKSbLIgFzQ"
      },
      "source": [
        "#@title How was the experiment? { run: \"auto\", form-width: \"500px\", display-mode: \"form\" }\n",
        "Complexity = \"\" #@param [\"\",\"Too Simple, I am wasting time\", \"Good, But Not Challenging for me\", \"Good and Challenging for me\", \"Was Tough, but I did it\", \"Too Difficult for me\"]\n"
      ],
      "execution_count": null,
      "outputs": []
    },
    {
      "cell_type": "code",
      "metadata": {
        "id": "DjcH1VWSFI2l"
      },
      "source": [
        "#@title If it was too easy, what more would you have liked to be added? If it was very difficult, what would you have liked to have been removed? { run: \"auto\", display-mode: \"form\" }\n",
        "Additional = \"\" #@param {type:\"string\"}\n"
      ],
      "execution_count": null,
      "outputs": []
    },
    {
      "cell_type": "code",
      "metadata": {
        "id": "4VBk_4VTAxCM"
      },
      "source": [
        "#@title Can you identify the concepts from the lecture which this experiment covered? { run: \"auto\", vertical-output: true, display-mode: \"form\" }\n",
        "Concepts = \"\" #@param [\"\",\"Yes\", \"No\"]\n"
      ],
      "execution_count": null,
      "outputs": []
    },
    {
      "cell_type": "code",
      "metadata": {
        "id": "r35isHfTVGKc"
      },
      "source": [
        "#@title  Experiment walkthrough video? { run: \"auto\", vertical-output: true, display-mode: \"form\" }\n",
        "Walkthrough = \"\" #@param [\"\",\"Very Useful\", \"Somewhat Useful\", \"Not Useful\", \"Didn't use\"]\n"
      ],
      "execution_count": null,
      "outputs": []
    },
    {
      "cell_type": "code",
      "metadata": {
        "id": "XH91cL1JWH7m"
      },
      "source": [
        "#@title  Text and image description/explanation and code comments within the experiment: { run: \"auto\", vertical-output: true, display-mode: \"form\" }\n",
        "Comments = \"\" #@param [\"\",\"Very Useful\", \"Somewhat Useful\", \"Not Useful\", \"Didn't use\"]\n"
      ],
      "execution_count": null,
      "outputs": []
    },
    {
      "cell_type": "code",
      "metadata": {
        "id": "z8xLqj7VWIKW"
      },
      "source": [
        "#@title Mentor Support: { run: \"auto\", vertical-output: true, display-mode: \"form\" }\n",
        "Mentor_support = \"\" #@param [\"\",\"Very Useful\", \"Somewhat Useful\", \"Not Useful\", \"Didn't use\"]\n"
      ],
      "execution_count": null,
      "outputs": []
    },
    {
      "cell_type": "code",
      "metadata": {
        "id": "FzAZHt1zw-Y-",
        "cellView": "form"
      },
      "source": [
        "#@title Run this cell to submit your notebook for Ungrading { vertical-output: true }\n",
        "try:\n",
        "  if submission_id:\n",
        "      return_id = submit_notebook()\n",
        "      if return_id : submission_id = return_id\n",
        "  else:\n",
        "      print(\"Please complete the setup first.\")\n",
        "except NameError:\n",
        "  print (\"Please complete the setup first.\")"
      ],
      "execution_count": null,
      "outputs": []
    }
  ]
}